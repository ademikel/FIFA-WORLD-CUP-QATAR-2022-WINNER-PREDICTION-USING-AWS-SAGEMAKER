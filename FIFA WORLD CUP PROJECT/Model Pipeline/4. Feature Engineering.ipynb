{
 "cells": [
  {
   "attachments": {
    "80baf731-ffd2-499c-88d3-b72e1915ae1f.jfif": {
     "image/jpeg": "[encoded data removed]"
    }
   },
   "cell_type": "markdown",
   "id": "ef49d953",
   "metadata": {
    "papermill": {
     "duration": 0.01373,
     "end_time": "2022-12-10T13:40:45.153702",
     "exception": false,
     "start_time": "2022-12-10T13:40:45.139972",
     "status": "completed"
    },
    "tags": []
   },
   "source": [
    "# Winner World Cup 2022 Prediction ⚽\n",
    "\n",
    "![images.jfif](attachment:80baf731-ffd2-499c-88d3-b72e1915ae1f.jfif)"
   ]
  },
  {
   "cell_type": "markdown",
   "id": "a3608949-006c-4823-accd-9bbe851eddbc",
   "metadata": {
    "tags": []
   },
   "source": [
    "## Install and Import Necessary Libraries"
   ]
  },
  {
   "cell_type": "code",
   "execution_count": 24,
   "id": "0ef0f03a",
   "metadata": {},
   "outputs": [],
   "source": [
    "import numpy as np\n",
    "import pandas as pd\n",
    "import warnings\n",
    "warnings.filterwarnings('ignore')"
   ]
  },
  {
   "cell_type": "markdown",
   "id": "e38ed860-6bbe-4687-a37a-b33dee1541ba",
   "metadata": {
    "jp-MarkdownHeadingCollapsed": true,
    "tags": []
   },
   "source": [
    "## Load data"
   ]
  },
  {
   "cell_type": "code",
   "execution_count": 25,
   "id": "8f2bbae9",
   "metadata": {
    "papermill": {
     "duration": 0.188393,
     "end_time": "2022-12-10T13:40:46.398835",
     "exception": false,
     "start_time": "2022-12-10T13:40:46.210442",
     "status": "completed"
    },
    "tags": []
   },
   "outputs": [
    {
     "data": {
      "text/html": [
       "<div>\n",
       "<style scoped>\n",
       "    .dataframe tbody tr th:only-of-type {\n",
       "        vertical-align: middle;\n",
       "    }\n",
       "\n",
       "    .dataframe tbody tr th {\n",
       "        vertical-align: top;\n",
       "    }\n",
       "\n",
       "    .dataframe thead th {\n",
       "        text-align: right;\n",
       "    }\n",
       "</style>\n",
       "<table border=\"1\" class=\"dataframe\">\n",
       "  <thead>\n",
       "    <tr style=\"text-align: right;\">\n",
       "      <th></th>\n",
       "      <th>date</th>\n",
       "      <th>home_team</th>\n",
       "      <th>away_team</th>\n",
       "      <th>home_team_continent</th>\n",
       "      <th>away_team_continent</th>\n",
       "      <th>home_team_fifa_rank</th>\n",
       "      <th>away_team_fifa_rank</th>\n",
       "      <th>home_team_total_fifa_points</th>\n",
       "      <th>away_team_total_fifa_points</th>\n",
       "      <th>home_team_score</th>\n",
       "      <th>...</th>\n",
       "      <th>shoot_out</th>\n",
       "      <th>home_team_result</th>\n",
       "      <th>home_team_goalkeeper_score</th>\n",
       "      <th>away_team_goalkeeper_score</th>\n",
       "      <th>home_team_mean_defense_score</th>\n",
       "      <th>home_team_mean_offense_score</th>\n",
       "      <th>home_team_mean_midfield_score</th>\n",
       "      <th>away_team_mean_defense_score</th>\n",
       "      <th>away_team_mean_offense_score</th>\n",
       "      <th>away_team_mean_midfield_score</th>\n",
       "    </tr>\n",
       "  </thead>\n",
       "  <tbody>\n",
       "    <tr>\n",
       "      <th>0</th>\n",
       "      <td>1993-08-08</td>\n",
       "      <td>Bolivia</td>\n",
       "      <td>Uruguay</td>\n",
       "      <td>South America</td>\n",
       "      <td>South America</td>\n",
       "      <td>59</td>\n",
       "      <td>22</td>\n",
       "      <td>0</td>\n",
       "      <td>0</td>\n",
       "      <td>3</td>\n",
       "      <td>...</td>\n",
       "      <td>No</td>\n",
       "      <td>Win</td>\n",
       "      <td>71.088608</td>\n",
       "      <td>71.755319</td>\n",
       "      <td>70.677528</td>\n",
       "      <td>75.38481</td>\n",
       "      <td>74.887342</td>\n",
       "      <td>70.776471</td>\n",
       "      <td>75.347872</td>\n",
       "      <td>74.980851</td>\n",
       "    </tr>\n",
       "    <tr>\n",
       "      <th>1</th>\n",
       "      <td>1993-08-08</td>\n",
       "      <td>Brazil</td>\n",
       "      <td>Mexico</td>\n",
       "      <td>South America</td>\n",
       "      <td>North America</td>\n",
       "      <td>8</td>\n",
       "      <td>14</td>\n",
       "      <td>0</td>\n",
       "      <td>0</td>\n",
       "      <td>1</td>\n",
       "      <td>...</td>\n",
       "      <td>No</td>\n",
       "      <td>Draw</td>\n",
       "      <td>71.088608</td>\n",
       "      <td>71.755319</td>\n",
       "      <td>70.677528</td>\n",
       "      <td>75.38481</td>\n",
       "      <td>74.887342</td>\n",
       "      <td>70.776471</td>\n",
       "      <td>75.347872</td>\n",
       "      <td>74.980851</td>\n",
       "    </tr>\n",
       "    <tr>\n",
       "      <th>2</th>\n",
       "      <td>1993-08-08</td>\n",
       "      <td>Ecuador</td>\n",
       "      <td>Venezuela</td>\n",
       "      <td>South America</td>\n",
       "      <td>South America</td>\n",
       "      <td>35</td>\n",
       "      <td>94</td>\n",
       "      <td>0</td>\n",
       "      <td>0</td>\n",
       "      <td>5</td>\n",
       "      <td>...</td>\n",
       "      <td>No</td>\n",
       "      <td>Win</td>\n",
       "      <td>71.088608</td>\n",
       "      <td>71.755319</td>\n",
       "      <td>70.677528</td>\n",
       "      <td>75.38481</td>\n",
       "      <td>74.887342</td>\n",
       "      <td>70.776471</td>\n",
       "      <td>75.347872</td>\n",
       "      <td>74.980851</td>\n",
       "    </tr>\n",
       "    <tr>\n",
       "      <th>3</th>\n",
       "      <td>1993-08-08</td>\n",
       "      <td>Guinea</td>\n",
       "      <td>Sierra Leone</td>\n",
       "      <td>Africa</td>\n",
       "      <td>Africa</td>\n",
       "      <td>65</td>\n",
       "      <td>86</td>\n",
       "      <td>0</td>\n",
       "      <td>0</td>\n",
       "      <td>1</td>\n",
       "      <td>...</td>\n",
       "      <td>No</td>\n",
       "      <td>Win</td>\n",
       "      <td>71.088608</td>\n",
       "      <td>71.755319</td>\n",
       "      <td>70.677528</td>\n",
       "      <td>75.38481</td>\n",
       "      <td>74.887342</td>\n",
       "      <td>70.776471</td>\n",
       "      <td>75.347872</td>\n",
       "      <td>74.980851</td>\n",
       "    </tr>\n",
       "    <tr>\n",
       "      <th>4</th>\n",
       "      <td>1993-08-08</td>\n",
       "      <td>Paraguay</td>\n",
       "      <td>Argentina</td>\n",
       "      <td>South America</td>\n",
       "      <td>South America</td>\n",
       "      <td>67</td>\n",
       "      <td>5</td>\n",
       "      <td>0</td>\n",
       "      <td>0</td>\n",
       "      <td>1</td>\n",
       "      <td>...</td>\n",
       "      <td>No</td>\n",
       "      <td>Lose</td>\n",
       "      <td>71.088608</td>\n",
       "      <td>71.755319</td>\n",
       "      <td>70.677528</td>\n",
       "      <td>75.38481</td>\n",
       "      <td>74.887342</td>\n",
       "      <td>70.776471</td>\n",
       "      <td>75.347872</td>\n",
       "      <td>74.980851</td>\n",
       "    </tr>\n",
       "  </tbody>\n",
       "</table>\n",
       "<p>5 rows × 25 columns</p>\n",
       "</div>"
      ],
      "text/plain": [
       "         date home_team     away_team home_team_continent away_team_continent  \\\n",
       "0  1993-08-08   Bolivia       Uruguay       South America       South America   \n",
       "1  1993-08-08    Brazil        Mexico       South America       North America   \n",
       "2  1993-08-08   Ecuador     Venezuela       South America       South America   \n",
       "3  1993-08-08    Guinea  Sierra Leone              Africa              Africa   \n",
       "4  1993-08-08  Paraguay     Argentina       South America       South America   \n",
       "\n",
       "   home_team_fifa_rank  away_team_fifa_rank  home_team_total_fifa_points  \\\n",
       "0                   59                   22                            0   \n",
       "1                    8                   14                            0   \n",
       "2                   35                   94                            0   \n",
       "3                   65                   86                            0   \n",
       "4                   67                    5                            0   \n",
       "\n",
       "   away_team_total_fifa_points  home_team_score  ...  shoot_out  \\\n",
       "0                            0                3  ...         No   \n",
       "1                            0                1  ...         No   \n",
       "2                            0                5  ...         No   \n",
       "3                            0                1  ...         No   \n",
       "4                            0                1  ...         No   \n",
       "\n",
       "  home_team_result home_team_goalkeeper_score away_team_goalkeeper_score  \\\n",
       "0              Win                  71.088608                  71.755319   \n",
       "1             Draw                  71.088608                  71.755319   \n",
       "2              Win                  71.088608                  71.755319   \n",
       "3              Win                  71.088608                  71.755319   \n",
       "4             Lose                  71.088608                  71.755319   \n",
       "\n",
       "   home_team_mean_defense_score home_team_mean_offense_score  \\\n",
       "0                     70.677528                     75.38481   \n",
       "1                     70.677528                     75.38481   \n",
       "2                     70.677528                     75.38481   \n",
       "3                     70.677528                     75.38481   \n",
       "4                     70.677528                     75.38481   \n",
       "\n",
       "  home_team_mean_midfield_score  away_team_mean_defense_score  \\\n",
       "0                     74.887342                     70.776471   \n",
       "1                     74.887342                     70.776471   \n",
       "2                     74.887342                     70.776471   \n",
       "3                     74.887342                     70.776471   \n",
       "4                     74.887342                     70.776471   \n",
       "\n",
       "   away_team_mean_offense_score  away_team_mean_midfield_score  \n",
       "0                     75.347872                      74.980851  \n",
       "1                     75.347872                      74.980851  \n",
       "2                     75.347872                      74.980851  \n",
       "3                     75.347872                      74.980851  \n",
       "4                     75.347872                      74.980851  \n",
       "\n",
       "[5 rows x 25 columns]"
      ]
     },
     "execution_count": 25,
     "metadata": {},
     "output_type": "execute_result"
    }
   ],
   "source": [
    "df = pd.read_csv('../Data/imputed_data.csv')\n",
    "df.head()"
   ]
  },
  {
   "cell_type": "markdown",
   "id": "af738e09-231d-409d-abd4-c101421bf3ec",
   "metadata": {
    "tags": []
   },
   "source": [
    "## Feature Engineering"
   ]
  },
  {
   "cell_type": "code",
   "execution_count": 26,
   "id": "345f6c86",
   "metadata": {
    "papermill": {
     "duration": 0.035237,
     "end_time": "2022-12-10T13:40:47.325358",
     "exception": false,
     "start_time": "2022-12-10T13:40:47.290121",
     "status": "completed"
    },
    "tags": []
   },
   "outputs": [],
   "source": [
    "df['rank_difference'] = df['home_team_fifa_rank'] - df['away_team_fifa_rank']\n",
    "df['average_rank'] = (df['home_team_fifa_rank'] + df['away_team_fifa_rank'])/2\n",
    "df['point_difference'] = df['home_team_total_fifa_points'] - df['away_team_total_fifa_points']\n",
    "df['score_difference'] = df['home_team_score'] - df['away_team_score']\n",
    "df['is_won'] = np.where(df['score_difference'] > 0, 1, 0) # take draw as lost\n",
    "df['is_stake'] = df['tournament'] != 'Friendly'"
   ]
  },
  {
   "cell_type": "code",
   "execution_count": 28,
   "id": "4d659b30-3d51-4afc-ab48-e8fcc8df6c27",
   "metadata": {},
   "outputs": [],
   "source": [
    "df.to_csv('../Data/engineered_data.csv', index = False)"
   ]
  }
 ],
 "metadata": {
  "kernelspec": {
   "display_name": "Python 3 (ipykernel)",
   "language": "python",
   "name": "python3"
  },
  "language_info": {
   "codemirror_mode": {
    "name": "ipython",
    "version": 3
   },
   "file_extension": ".py",
   "mimetype": "text/x-python",
   "name": "python",
   "nbconvert_exporter": "python",
   "pygments_lexer": "ipython3",
   "version": "3.9.12"
  },
  "papermill": {
   "default_parameters": {},
   "duration": 46.330543,
   "end_time": "2022-12-10T13:41:23.422191",
   "environment_variables": {},
   "exception": null,
   "input_path": "__notebook__.ipynb",
   "output_path": "__notebook__.ipynb",
   "parameters": {},
   "start_time": "2022-12-10T13:40:37.091648",
   "version": "2.3.4"
  }
 },
 "nbformat": 4,
 "nbformat_minor": 5
}
